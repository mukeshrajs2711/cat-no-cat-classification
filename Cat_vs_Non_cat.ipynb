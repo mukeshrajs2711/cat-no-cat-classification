{
  "nbformat": 4,
  "nbformat_minor": 0,
  "metadata": {
    "colab": {
      "provenance": []
    },
    "kernelspec": {
      "name": "python3",
      "display_name": "Python 3"
    },
    "language_info": {
      "name": "python"
    }
  },
  "cells": [
    {
      "cell_type": "code",
      "execution_count": 1,
      "metadata": {
        "id": "hDaqylAnfgGo"
      },
      "outputs": [],
      "source": [
        "import numpy as np\n",
        "import h5py\n",
        "from matplotlib import pyplot as plt"
      ]
    },
    {
      "cell_type": "code",
      "source": [
        "train_data = h5py.File('train_catvnoncat.h5', 'r')"
      ],
      "metadata": {
        "id": "gLSXFkNIf_AS"
      },
      "execution_count": 2,
      "outputs": []
    },
    {
      "cell_type": "code",
      "source": [
        "train_x = np.array(train_data[\"train_set_x\"][:])\n",
        "train_y = np.array(train_data[\"train_set_y\"][:])"
      ],
      "metadata": {
        "id": "BkY72LHJgC-n"
      },
      "execution_count": 3,
      "outputs": []
    },
    {
      "cell_type": "code",
      "source": [
        "m_train = train_x.shape[0]\n",
        "\n",
        "train_x_flattened = train_x.reshape(-1, m_train)\n",
        "print(train_x_flattened.shape)"
      ],
      "metadata": {
        "colab": {
          "base_uri": "https://localhost:8080/"
        },
        "id": "XELR30xFgHyL",
        "outputId": "21959e8f-1d1b-4139-fadd-f29469e56960"
      },
      "execution_count": 4,
      "outputs": [
        {
          "output_type": "stream",
          "name": "stdout",
          "text": [
            "(12288, 209)\n"
          ]
        }
      ]
    },
    {
      "cell_type": "code",
      "source": [
        "train_x = train_x_flattened / 255."
      ],
      "metadata": {
        "id": "Ewp1pZY2gQy4"
      },
      "execution_count": 5,
      "outputs": []
    },
    {
      "cell_type": "code",
      "source": [
        "train_y = train_y.reshape(1, train_y.shape[0])"
      ],
      "metadata": {
        "id": "6iT83TOngUd4"
      },
      "execution_count": 6,
      "outputs": []
    },
    {
      "cell_type": "code",
      "source": [
        "print (\"train_x's shape: \" + str(train_x.shape))\n",
        "print(\"train_y's shape: \" + str(train_y.shape))"
      ],
      "metadata": {
        "colab": {
          "base_uri": "https://localhost:8080/"
        },
        "id": "R5zrSuBigXFg",
        "outputId": "c7f22716-847b-4ec1-8a0a-68277850cd6a"
      },
      "execution_count": 73,
      "outputs": [
        {
          "output_type": "stream",
          "name": "stdout",
          "text": [
            "train_x's shape: (12288, 209)\n",
            "train_y's shape: (1, 209)\n"
          ]
        }
      ]
    },
    {
      "cell_type": "markdown",
      "source": [
        "## Parameter Initialization"
      ],
      "metadata": {
        "id": "GPRSAmiMMek3"
      }
    },
    {
      "cell_type": "code",
      "source": [
        "def initialize_parameters(layer_dims):\n",
        "    parameters = {}\n",
        "    L = len(layer_dims)\n",
        "    \n",
        "    for l in range(1, L):\n",
        "        parameters['W' + str(l)] = np.random.randn(layer_dims[l], layer_dims[l-1]) * 0.01\n",
        "        parameters['b' + str(l)] = np.zeros((layer_dims[l], 1))\n",
        "        \n",
        "    \n",
        "    return parameters    "
      ],
      "metadata": {
        "id": "IFmdXN03gcj7"
      },
      "execution_count": 8,
      "outputs": []
    },
    {
      "cell_type": "markdown",
      "source": [
        "# Forward Propagation"
      ],
      "metadata": {
        "id": "KEZv_2WyMqpE"
      }
    },
    {
      "cell_type": "code",
      "source": [
        "def sigmoid(Z):\n",
        "    return (1 / (1 + np.exp(-Z)), Z)"
      ],
      "metadata": {
        "id": "J8JOYQZBgdLW"
      },
      "execution_count": 9,
      "outputs": []
    },
    {
      "cell_type": "code",
      "source": [
        "def relu(Z):\n",
        "    return (np.maximum(0, Z), Z)"
      ],
      "metadata": {
        "id": "H7BBX3Nwgfq-"
      },
      "execution_count": 10,
      "outputs": []
    },
    {
      "cell_type": "code",
      "source": [
        "def linear_forward(A, W, b):\n",
        "    Z = np.dot(W, A) + b\n",
        "    \n",
        "    cache = (A, W, b)\n",
        "    \n",
        "    return Z, cache"
      ],
      "metadata": {
        "id": "W_1e1Tu9gg6F"
      },
      "execution_count": 11,
      "outputs": []
    },
    {
      "cell_type": "code",
      "source": [
        "def linear_activation_forward(A_prev, W, b, activation):\n",
        "    if activation == 'relu':\n",
        "        Z, linear_cache = linear_forward(A_prev, W, b)\n",
        "        A, activation_cache = relu(Z)\n",
        "    \n",
        "    elif activation == 'sigmoid':\n",
        "        Z, linear_cache = linear_forward(A_prev, W, b)\n",
        "        A, activation_cache = sigmoid(Z)\n",
        "        \n",
        "    cache = (linear_cache, activation_cache)\n",
        "    \n",
        "    return A, cache"
      ],
      "metadata": {
        "id": "DE8KIzuggh_B"
      },
      "execution_count": 12,
      "outputs": []
    },
    {
      "cell_type": "code",
      "source": [
        "def deep_forward(X, parameters):\n",
        "    caches = []\n",
        "    A = X\n",
        "    L = len(parameters) // 2\n",
        "    \n",
        "    for l in range(1, L):\n",
        "        A_prev = A\n",
        "        \n",
        "        A, cache = linear_activation_forward(A_prev, parameters['W' + str(l)], parameters['b' + str(l)], 'relu')\n",
        "        caches.append(cache)\n",
        "    \n",
        "    AL, cache = linear_activation_forward(A, parameters['W' + str(L)], parameters['b' + str(L)], 'sigmoid')\n",
        "    caches.append(cache)\n",
        "    \n",
        "    return AL, caches"
      ],
      "metadata": {
        "id": "d7Ob2HdngjaW"
      },
      "execution_count": 13,
      "outputs": []
    },
    {
      "cell_type": "markdown",
      "source": [
        "## Cost computation"
      ],
      "metadata": {
        "id": "pMhXcOyKMu6h"
      }
    },
    {
      "cell_type": "code",
      "source": [
        "def compute_cost(AL, Y):\n",
        "    m = Y.shape\n",
        "    \n",
        "    cost = -(1/m) * (np.dot(Y, np.log(AL).T) + np.dot((1-Y), np.log(1-AL).T))\n",
        "    cost = np.squeeze(cost)\n",
        "    \n",
        "    return cost"
      ],
      "metadata": {
        "id": "KAb36aWsgkn8"
      },
      "execution_count": 85,
      "outputs": []
    },
    {
      "cell_type": "markdown",
      "source": [
        "# Backpropagation"
      ],
      "metadata": {
        "id": "Xq-A_4aaMx95"
      }
    },
    {
      "cell_type": "code",
      "source": [
        "def sigmoid_deriv(Z):\n",
        "    return sigmoid(Z)[0] * (1 - sigmoid(Z)[0])\n",
        "\n",
        "def sigmoid_backward(dA, activation_cache):\n",
        "    return dA * sigmoid_deriv(activation_cache)"
      ],
      "metadata": {
        "id": "HMbNYBnhgm2T"
      },
      "execution_count": 15,
      "outputs": []
    },
    {
      "cell_type": "code",
      "source": [
        "def relu_deriv(Z):\n",
        "    return Z > 0\n",
        "\n",
        "def relu_backward(dA, activation_cache):\n",
        "    return dA * relu_deriv(activation_cache)"
      ],
      "metadata": {
        "id": "2vHXcCCSgoXu"
      },
      "execution_count": 16,
      "outputs": []
    },
    {
      "cell_type": "code",
      "source": [
        "def linear_backward(dZ, cache):\n",
        "    A_prev, W, b = cache\n",
        "    m = A_prev.shape[1]\n",
        "    \n",
        "    dW = (1/m) * np.dot(dZ, A_prev.T)\n",
        "    db = (1/m) * np.sum(dZ, axis = 1, keepdims = True)\n",
        "    dA_prev = np.dot(W.T, dZ)\n",
        "    \n",
        "    return dA_prev, dW, db"
      ],
      "metadata": {
        "id": "kji7Ts5wgpcw"
      },
      "execution_count": 17,
      "outputs": []
    },
    {
      "cell_type": "code",
      "source": [
        "def linear_activation_backward(dA, cache, activation):\n",
        "    linear_cache, activation_cache = cache\n",
        "    \n",
        "    if activation == 'relu':\n",
        "        dZ = relu_backward(dA, activation_cache)\n",
        "        dA_prev, dW, db = linear_backward(dZ, linear_cache)\n",
        "        \n",
        "    elif activation == 'sigmoid':\n",
        "        dZ = sigmoid_backward(dA, activation_cache)\n",
        "        dA_prev, dW, db = linear_backward(dZ, linear_cache)\n",
        "    \n",
        "    return dA_prev, dW, db"
      ],
      "metadata": {
        "id": "UFDBJ695gqsQ"
      },
      "execution_count": 18,
      "outputs": []
    },
    {
      "cell_type": "code",
      "source": [
        "def deep_backward(AL, Y, caches):\n",
        "    grads = {}\n",
        "    L = len(caches)\n",
        "    m = AL.shape[1]\n",
        "    Y = Y.reshape(AL.shape) # after this line, Y is the same shape as AL\n",
        "    \n",
        "    # Initializing the backpropagation\n",
        "    dAL = - (np.divide(Y, AL) - np.divide(1 - Y, 1 - AL))\n",
        "    \n",
        "    current_cache = caches[L-1]\n",
        "    dA_prev_temp, dW_temp, db_temp = linear_activation_backward(dAL, current_cache, \"sigmoid\")\n",
        "    grads[\"dA\" + str(L-1)] = dA_prev_temp\n",
        "    grads[\"dW\" + str(L)] = dW_temp\n",
        "    grads[\"db\" + str(L)] = db_temp\n",
        "    \n",
        "    for l in reversed(range(L-1)):\n",
        "        current_cache = caches[l]\n",
        "        dA_prev_temp, dW_temp, db_temp = linear_activation_backward(grads[\"dA\" + str(l+1)], current_cache, \"relu\")\n",
        "        grads[\"dA\" + str(l)] = dA_prev_temp\n",
        "        grads[\"dW\" + str(l+1)] = dW_temp\n",
        "        grads[\"db\" + str(l+1)] = db_temp\n",
        "        \n",
        "    return grads"
      ],
      "metadata": {
        "id": "xD7kmzWLgrvz"
      },
      "execution_count": 59,
      "outputs": []
    },
    {
      "cell_type": "markdown",
      "source": [
        "# Update Parameters"
      ],
      "metadata": {
        "id": "PHdlVd5jM15i"
      }
    },
    {
      "cell_type": "code",
      "source": [
        "def update_parameters(params, grads, learning_rate):\n",
        "    parameters = params.copy()\n",
        "    L = len(parameters) // 2\n",
        "    \n",
        "    for l in range(L):\n",
        "        parameters[\"W\" + str(l+1)] = parameters[\"W\" + str(l+1)] - learning_rate * grads[\"dW\" + str(l+1)]\n",
        "        parameters[\"b\" + str(l+1)] = parameters[\"b\" + str(l+1)] - learning_rate * grads[\"db\" + str(l+1)]\n",
        "        \n",
        "    return parameters"
      ],
      "metadata": {
        "id": "7t9dTdVggtbE"
      },
      "execution_count": 60,
      "outputs": []
    },
    {
      "cell_type": "markdown",
      "source": [
        "# Buliding the L-layer neural network"
      ],
      "metadata": {
        "id": "1JXeLwfRM8h1"
      }
    },
    {
      "cell_type": "code",
      "source": [
        "layers_dims = [12288, 20, 7, 5, 1]"
      ],
      "metadata": {
        "id": "ie0h_x-xhwyP"
      },
      "execution_count": 61,
      "outputs": []
    },
    {
      "cell_type": "code",
      "source": [
        "def L_layer_model(X, Y, layer_dims, learning_rate = 0.0075, num_iterations = 3000):\n",
        "    costs = []\n",
        "    \n",
        "    parameters = initialize_parameters(layers_dims)\n",
        "    \n",
        "    for i in range(0, num_iterations):\n",
        "        AL, caches = deep_forward(X, parameters)\n",
        "        \n",
        "        cost = compute_cost(AL, Y)\n",
        "        \n",
        "        grads = deep_backward(AL, Y, caches)\n",
        "        \n",
        "        parameters = update_parameters(parameters, grads, learning_rate)\n",
        "        \n",
        "        if i%100 == 0 or i == num_iterations-1:\n",
        "            print(f\"Cost after iteration {i}: {np.squeeze(cost)}\")\n",
        "            costs.append(cost)\n",
        "    \n",
        "    \n",
        "    return parameters, costs"
      ],
      "metadata": {
        "id": "-dLfn-AUguyg"
      },
      "execution_count": 81,
      "outputs": []
    },
    {
      "cell_type": "markdown",
      "source": [
        "# Train the model"
      ],
      "metadata": {
        "id": "zIFVc-LJM-GC"
      }
    },
    {
      "cell_type": "code",
      "source": [
        "Parameters, Costs = L_layer_model(train_x, train_y, layers_dims, learning_rate = 0.01)"
      ],
      "metadata": {
        "colab": {
          "base_uri": "https://localhost:8080/"
        },
        "id": "qKyCMb3AgwT8",
        "outputId": "e8d7c76a-b63f-48fb-9641-b85d60b76913"
      },
      "execution_count": 82,
      "outputs": [
        {
          "output_type": "stream",
          "name": "stdout",
          "text": [
            "Cost after iteration 0: 0.6931475988874048\n",
            "Cost after iteration 100: 0.6740958771233654\n",
            "Cost after iteration 200: 0.662520116598468\n",
            "Cost after iteration 300: 0.6554523290635692\n",
            "Cost after iteration 400: 0.6511119270756448\n",
            "Cost after iteration 500: 0.6484312180824577\n",
            "Cost after iteration 600: 0.6467670066863824\n",
            "Cost after iteration 700: 0.6457292251661968\n",
            "Cost after iteration 800: 0.6450796367243201\n",
            "Cost after iteration 900: 0.6446717622080372\n",
            "Cost after iteration 1000: 0.64441500217289\n",
            "Cost after iteration 1100: 0.6442530311919518\n",
            "Cost after iteration 1200: 0.6441506838385265\n",
            "Cost after iteration 1300: 0.6440859113386007\n",
            "Cost after iteration 1400: 0.6440448282100932\n",
            "Cost after iteration 1500: 0.6440188041558915\n",
            "Cost after iteration 1600: 0.6440022983844276\n",
            "Cost after iteration 1700: 0.6439918198630776\n",
            "Cost after iteration 1800: 0.6439851645037237\n",
            "Cost after iteration 1900: 0.6439809357098407\n",
            "Cost after iteration 2000: 0.6439782478208872\n",
            "Cost after iteration 2100: 0.6439765388123198\n",
            "Cost after iteration 2200: 0.6439754518420155\n",
            "Cost after iteration 2300: 0.6439747602383816\n",
            "Cost after iteration 2400: 0.6439743199893063\n",
            "Cost after iteration 2500: 0.6439740395687514\n",
            "Cost after iteration 2600: 0.6439738607678664\n",
            "Cost after iteration 2700: 0.6439737465872699\n",
            "Cost after iteration 2800: 0.6439736734860361\n",
            "Cost after iteration 2900: 0.6439736265017173\n",
            "Cost after iteration 2999: 0.6439735963945143\n"
          ]
        }
      ]
    },
    {
      "cell_type": "code",
      "source": [
        "x = [i for i in range(31)]\n",
        "plt.xlabel(\"Number of iterations (in thousands)\")\n",
        "plt.ylabel(\"Cost\")\n",
        "plt.plot(x, Costs)"
      ],
      "metadata": {
        "colab": {
          "base_uri": "https://localhost:8080/",
          "height": 466
        },
        "id": "vsYKgV0Ggxva",
        "outputId": "907a73b6-f4f7-40af-c0f4-bf609e914a09"
      },
      "execution_count": 104,
      "outputs": [
        {
          "output_type": "execute_result",
          "data": {
            "text/plain": [
              "[<matplotlib.lines.Line2D at 0x7fe4b20dcb20>]"
            ]
          },
          "metadata": {},
          "execution_count": 104
        },
        {
          "output_type": "display_data",
          "data": {
            "text/plain": [
              "<Figure size 640x480 with 1 Axes>"
            ],
            "image/png": "[encoded data removed]"
          },
          "metadata": {}
        }
      ]
    },
    {
      "cell_type": "code",
      "source": [],
      "metadata": {
        "id": "Pfg579tDNjwW"
      },
      "execution_count": null,
      "outputs": []
    }
  ]
}